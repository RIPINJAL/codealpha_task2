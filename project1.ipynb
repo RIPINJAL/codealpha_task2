{
  "nbformat": 4,
  "nbformat_minor": 0,
  "metadata": {
    "colab": {
      "provenance": []
    },
    "kernelspec": {
      "name": "python3",
      "display_name": "Python 3"
    },
    "language_info": {
      "name": "python"
    }
  },
  "cells": [
    {
      "cell_type": "code",
      "metadata": {
        "colab": {
          "base_uri": "https://localhost:8080/"
        },
        "id": "36fd3c93",
        "outputId": "977c139f-4067-4f82-982c-425fef1a45bd"
      },
      "source": [
        "!pip install extra-keras-datasets"
      ],
      "execution_count": null,
      "outputs": [
        {
          "output_type": "stream",
          "name": "stdout",
          "text": [
            "Collecting extra-keras-datasets\n",
            "  Downloading extra_keras_datasets-1.2.0-py3-none-any.whl.metadata (982 bytes)\n",
            "Requirement already satisfied: numpy in /usr/local/lib/python3.11/dist-packages (from extra-keras-datasets) (2.0.2)\n",
            "Requirement already satisfied: scipy in /usr/local/lib/python3.11/dist-packages (from extra-keras-datasets) (1.15.3)\n",
            "Requirement already satisfied: pandas in /usr/local/lib/python3.11/dist-packages (from extra-keras-datasets) (2.2.2)\n",
            "Requirement already satisfied: scikit-learn in /usr/local/lib/python3.11/dist-packages (from extra-keras-datasets) (1.6.1)\n",
            "Requirement already satisfied: python-dateutil>=2.8.2 in /usr/local/lib/python3.11/dist-packages (from pandas->extra-keras-datasets) (2.9.0.post0)\n",
            "Requirement already satisfied: pytz>=2020.1 in /usr/local/lib/python3.11/dist-packages (from pandas->extra-keras-datasets) (2025.2)\n",
            "Requirement already satisfied: tzdata>=2022.7 in /usr/local/lib/python3.11/dist-packages (from pandas->extra-keras-datasets) (2025.2)\n",
            "Requirement already satisfied: joblib>=1.2.0 in /usr/local/lib/python3.11/dist-packages (from scikit-learn->extra-keras-datasets) (1.5.1)\n",
            "Requirement already satisfied: threadpoolctl>=3.1.0 in /usr/local/lib/python3.11/dist-packages (from scikit-learn->extra-keras-datasets) (3.6.0)\n",
            "Requirement already satisfied: six>=1.5 in /usr/local/lib/python3.11/dist-packages (from python-dateutil>=2.8.2->pandas->extra-keras-datasets) (1.17.0)\n",
            "Downloading extra_keras_datasets-1.2.0-py3-none-any.whl (12 kB)\n",
            "Installing collected packages: extra-keras-datasets\n",
            "Successfully installed extra-keras-datasets-1.2.0\n"
          ]
        }
      ]
    },
    {
      "cell_type": "code",
      "source": [
        "# 🛠️ Step 1: Import libraries\n",
        "import numpy as np\n",
        "import matplotlib.pyplot as plt\n",
        "from tensorflow.keras.models import Sequential\n",
        "from tensorflow.keras.layers import Conv2D, MaxPooling2D, Flatten, Dense, Dropout\n",
        "from tensorflow.keras.utils import to_categorical\n",
        "from tensorflow.keras.datasets import mnist\n",
        "from extra_keras_datasets import emnist\n"
      ],
      "metadata": {
        "id": "TBrPxflsDR3v"
      },
      "execution_count": null,
      "outputs": []
    },
    {
      "cell_type": "code",
      "source": [
        "# Load the digit dataset (0 to 9)\n",
        "(digits_train_images, digits_train_labels), (digits_test_images, digits_test_labels) = mnist.load_data()\n",
        "\n",
        "# Normalize pixel values to [0, 1]\n",
        "digits_train_images = digits_train_images.reshape(-1, 28, 28, 1) / 255.0\n",
        "digits_test_images = digits_test_images.reshape(-1, 28, 28, 1) / 255.0\n",
        "\n",
        "# Convert labels to one-hot format\n",
        "digits_train_labels = to_categorical(digits_train_labels, 10)\n",
        "digits_test_labels = to_categorical(digits_test_labels, 10)\n"
      ],
      "metadata": {
        "colab": {
          "base_uri": "https://localhost:8080/"
        },
        "id": "m2Xtz0uSDYia",
        "outputId": "157345f4-a67b-4587-b23a-a934660d3197"
      },
      "execution_count": null,
      "outputs": [
        {
          "output_type": "stream",
          "name": "stdout",
          "text": [
            "Downloading data from https://storage.googleapis.com/tensorflow/tf-keras-datasets/mnist.npz\n",
            "\u001b[1m11490434/11490434\u001b[0m \u001b[32m━━━━━━━━━━━━━━━━━━━━\u001b[0m\u001b[37m\u001b[0m \u001b[1m0s\u001b[0m 0us/step\n"
          ]
        }
      ]
    },
    {
      "cell_type": "code",
      "source": [
        "import pandas as pd\n",
        "import numpy as np\n",
        "from sklearn.model_selection import train_test_split\n",
        "from tensorflow.keras.utils import to_categorical\n",
        "\n",
        "# Load training data\n",
        "train_data = pd.read_csv('emnist-letters-train.csv.zip', header=None)\n",
        "test_data = pd.read_csv('emnist-letters-test.csv.zip', header=None)\n",
        "\n",
        "# Split features and labels\n",
        "x_train = train_data.iloc[:, 1:].values\n",
        "y_train = train_data.iloc[:, 0].values - 1  # Adjust labels from 1–26 to 0–25\n",
        "\n",
        "x_test = test_data.iloc[:, 1:].values\n",
        "y_test = test_data.iloc[:, 0].values - 1\n",
        "\n",
        "# Normalize and reshape\n",
        "x_train = x_train.reshape(-1, 28, 28, 1).astype('float32') / 255.0\n",
        "x_test = x_test.reshape(-1, 28, 28, 1).astype('float32') / 255.0\n",
        "\n",
        "# One-hot encode labels\n",
        "y_train = to_categorical(y_train, 26)\n",
        "y_test = to_categorical(y_test, 26)\n"
      ],
      "metadata": {
        "id": "DlAHiPN3Gana"
      },
      "execution_count": null,
      "outputs": []
    },
    {
      "cell_type": "code",
      "source": [
        "# If images appear rotated, apply correction\n",
        "x_train = np.rot90(x_train, k=1, axes=(1, 2))\n",
        "x_test = np.rot90(x_test, k=1, axes=(1, 2))\n"
      ],
      "metadata": {
        "id": "sZHe8rDAG_WP"
      },
      "execution_count": null,
      "outputs": []
    },
    {
      "cell_type": "code",
      "source": [],
      "metadata": {
        "id": "eQFiaHjAHBcf"
      },
      "execution_count": null,
      "outputs": []
    },
    {
      "cell_type": "code",
      "source": [
        "def build_cnn_model(num_classes):\n",
        "    model = Sequential()\n",
        "\n",
        "    # First Convolution Layer\n",
        "    model.add(Conv2D(32, (3, 3), activation='relu', input_shape=(28, 28, 1)))\n",
        "    model.add(MaxPooling2D(pool_size=(2, 2)))\n",
        "\n",
        "    # Second Convolution Layer\n",
        "    model.add(Conv2D(64, (3, 3), activation='relu'))\n",
        "    model.add(MaxPooling2D(pool_size=(2, 2)))\n",
        "\n",
        "    # Flatten the 2D feature maps into 1D\n",
        "    model.add(Flatten())\n",
        "\n",
        "    # Dense layer with dropout to reduce overfitting\n",
        "    model.add(Dense(128, activation='relu'))\n",
        "    model.add(Dropout(0.4))  # More human, less robotic model\n",
        "\n",
        "    # Output layer\n",
        "    model.add(Dense(num_classes, activation='softmax'))\n",
        "\n",
        "    # Compile the model\n",
        "    model.compile(optimizer='adam', loss='categorical_crossentropy', metrics=['accuracy'])\n",
        "\n",
        "    return model\n"
      ],
      "metadata": {
        "id": "Wbia3tPTHBjH"
      },
      "execution_count": null,
      "outputs": []
    },
    {
      "cell_type": "code",
      "source": [
        "digit_model = build_cnn_model(10)\n",
        "\n",
        "print(\"🧪 Training on digit data (MNIST)...\")\n",
        "digit_model.fit(digits_train_images, digits_train_labels, epochs=5, validation_data=(digits_test_images, digits_test_labels))\n"
      ],
      "metadata": {
        "colab": {
          "base_uri": "https://localhost:8080/"
        },
        "id": "56KtCGaqHI9z",
        "outputId": "8012dc2a-3983-4736-e242-d7a1dc84375e"
      },
      "execution_count": null,
      "outputs": [
        {
          "output_type": "stream",
          "name": "stderr",
          "text": [
            "/usr/local/lib/python3.11/dist-packages/keras/src/layers/convolutional/base_conv.py:107: UserWarning: Do not pass an `input_shape`/`input_dim` argument to a layer. When using Sequential models, prefer using an `Input(shape)` object as the first layer in the model instead.\n",
            "  super().__init__(activity_regularizer=activity_regularizer, **kwargs)\n"
          ]
        },
        {
          "output_type": "stream",
          "name": "stdout",
          "text": [
            "🧪 Training on digit data (MNIST)...\n",
            "Epoch 1/5\n",
            "\u001b[1m1875/1875\u001b[0m \u001b[32m━━━━━━━━━━━━━━━━━━━━\u001b[0m\u001b[37m\u001b[0m \u001b[1m64s\u001b[0m 33ms/step - accuracy: 0.8784 - loss: 0.3814 - val_accuracy: 0.9861 - val_loss: 0.0405\n",
            "Epoch 2/5\n",
            "\u001b[1m1875/1875\u001b[0m \u001b[32m━━━━━━━━━━━━━━━━━━━━\u001b[0m\u001b[37m\u001b[0m \u001b[1m79s\u001b[0m 31ms/step - accuracy: 0.9791 - loss: 0.0682 - val_accuracy: 0.9904 - val_loss: 0.0270\n",
            "Epoch 3/5\n",
            "\u001b[1m1875/1875\u001b[0m \u001b[32m━━━━━━━━━━━━━━━━━━━━\u001b[0m\u001b[37m\u001b[0m \u001b[1m83s\u001b[0m 32ms/step - accuracy: 0.9852 - loss: 0.0487 - val_accuracy: 0.9915 - val_loss: 0.0246\n",
            "Epoch 4/5\n",
            "\u001b[1m1875/1875\u001b[0m \u001b[32m━━━━━━━━━━━━━━━━━━━━\u001b[0m\u001b[37m\u001b[0m \u001b[1m59s\u001b[0m 31ms/step - accuracy: 0.9887 - loss: 0.0366 - val_accuracy: 0.9929 - val_loss: 0.0228\n",
            "Epoch 5/5\n",
            "\u001b[1m1875/1875\u001b[0m \u001b[32m━━━━━━━━━━━━━━━━━━━━\u001b[0m\u001b[37m\u001b[0m \u001b[1m85s\u001b[0m 33ms/step - accuracy: 0.9909 - loss: 0.0295 - val_accuracy: 0.9932 - val_loss: 0.0232\n"
          ]
        },
        {
          "output_type": "execute_result",
          "data": {
            "text/plain": [
              "<keras.src.callbacks.history.History at 0x7aa9336f7510>"
            ]
          },
          "metadata": {},
          "execution_count": 18
        }
      ]
    },
    {
      "cell_type": "code",
      "source": [
        "# Use the correctly named variables for EMNIST from CSV\n",
        "letter_model = build_cnn_model(26)\n",
        "\n",
        "print(\"🧪 Training on letter data (EMNIST)...\")\n",
        "letter_model.fit(x_train, y_train, epochs=5, validation_data=(x_test, y_test))\n"
      ],
      "metadata": {
        "colab": {
          "base_uri": "https://localhost:8080/"
        },
        "id": "07nNuvXbJKw8",
        "outputId": "2a40d05f-9d57-45a5-869c-c4958f9008a5"
      },
      "execution_count": null,
      "outputs": [
        {
          "output_type": "stream",
          "name": "stderr",
          "text": [
            "/usr/local/lib/python3.11/dist-packages/keras/src/layers/convolutional/base_conv.py:107: UserWarning: Do not pass an `input_shape`/`input_dim` argument to a layer. When using Sequential models, prefer using an `Input(shape)` object as the first layer in the model instead.\n",
            "  super().__init__(activity_regularizer=activity_regularizer, **kwargs)\n"
          ]
        },
        {
          "output_type": "stream",
          "name": "stdout",
          "text": [
            "🧪 Training on letter data (EMNIST)...\n",
            "Epoch 1/5\n",
            "\u001b[1m2775/2775\u001b[0m \u001b[32m━━━━━━━━━━━━━━━━━━━━\u001b[0m\u001b[37m\u001b[0m \u001b[1m91s\u001b[0m 32ms/step - accuracy: 0.6729 - loss: 1.0830 - val_accuracy: 0.8900 - val_loss: 0.3313\n",
            "Epoch 2/5\n",
            "\u001b[1m2775/2775\u001b[0m \u001b[32m━━━━━━━━━━━━━━━━━━━━\u001b[0m\u001b[37m\u001b[0m \u001b[1m88s\u001b[0m 32ms/step - accuracy: 0.8755 - loss: 0.3859 - val_accuracy: 0.9126 - val_loss: 0.2585\n",
            "Epoch 3/5\n",
            "\u001b[1m2775/2775\u001b[0m \u001b[32m━━━━━━━━━━━━━━━━━━━━\u001b[0m\u001b[37m\u001b[0m \u001b[1m143s\u001b[0m 32ms/step - accuracy: 0.9001 - loss: 0.3069 - val_accuracy: 0.9138 - val_loss: 0.2507\n",
            "Epoch 4/5\n",
            "\u001b[1m2775/2775\u001b[0m \u001b[32m━━━━━━━━━━━━━━━━━━━━\u001b[0m\u001b[37m\u001b[0m \u001b[1m140s\u001b[0m 32ms/step - accuracy: 0.9112 - loss: 0.2664 - val_accuracy: 0.9151 - val_loss: 0.2574\n",
            "Epoch 5/5\n",
            "\u001b[1m2775/2775\u001b[0m \u001b[32m━━━━━━━━━━━━━━━━━━━━\u001b[0m\u001b[37m\u001b[0m \u001b[1m91s\u001b[0m 33ms/step - accuracy: 0.9191 - loss: 0.2430 - val_accuracy: 0.9222 - val_loss: 0.2280\n"
          ]
        },
        {
          "output_type": "execute_result",
          "data": {
            "text/plain": [
              "<keras.src.callbacks.history.History at 0x7aa9381b1010>"
            ]
          },
          "metadata": {},
          "execution_count": 20
        }
      ]
    },
    {
      "cell_type": "code",
      "source": [
        "digit_accuracy = digit_model.evaluate(digits_test_images, digits_test_labels)[1]\n",
        "letter_accuracy = letter_model.evaluate(x_test, y_test)[1]\n",
        "\n",
        "print(f\"✅ Digit model accuracy: {digit_accuracy:.2%}\")\n",
        "print(f\"✅ Letter model accuracy: {letter_accuracy:.2%}\")\n"
      ],
      "metadata": {
        "colab": {
          "base_uri": "https://localhost:8080/"
        },
        "id": "14VfY6NpMBqi",
        "outputId": "f39ffe17-9fe8-44cf-86f7-14689a509111"
      },
      "execution_count": null,
      "outputs": [
        {
          "output_type": "stream",
          "name": "stdout",
          "text": [
            "\u001b[1m313/313\u001b[0m \u001b[32m━━━━━━━━━━━━━━━━━━━━\u001b[0m\u001b[37m\u001b[0m \u001b[1m3s\u001b[0m 9ms/step - accuracy: 0.9916 - loss: 0.0279\n",
            "\u001b[1m463/463\u001b[0m \u001b[32m━━━━━━━━━━━━━━━━━━━━\u001b[0m\u001b[37m\u001b[0m \u001b[1m5s\u001b[0m 11ms/step - accuracy: 0.9321 - loss: 0.2166\n",
            "✅ Digit model accuracy: 99.32%\n",
            "✅ Letter model accuracy: 92.22%\n"
          ]
        }
      ]
    },
    {
      "cell_type": "code",
      "source": [
        "# Predict and show a digit\n",
        "sample_digit = digits_test_images[0]\n",
        "pred_digit = np.argmax(digit_model.predict(sample_digit.reshape(1, 28, 28, 1)))\n",
        "plt.imshow(sample_digit.squeeze(), cmap='gray')\n",
        "plt.title(f\"Predicted Digit: {pred_digit}\")\n",
        "plt.show()\n",
        "\n",
        "# Predict and show a letter\n",
        "# Using x_test as a temporary workaround since letters_test_images was not defined due to download issues\n",
        "sample_letter = x_test[0]\n",
        "pred_letter = np.argmax(letter_model.predict(sample_letter.reshape(1, 28, 28, 1)))\n",
        "plt.imshow(sample_letter.squeeze(), cmap='gray')\n",
        "plt.title(f\"Predicted Letter: {chr(pred_letter + 65)}\")\n",
        "plt.show()"
      ],
      "metadata": {
        "colab": {
          "base_uri": "https://localhost:8080/",
          "height": 922
        },
        "id": "KhxufJGdMMTn",
        "outputId": "785ba0aa-ae4e-413f-f4ff-4a38cbc98f22"
      },
      "execution_count": null,
      "outputs": [
        {
          "output_type": "stream",
          "name": "stdout",
          "text": [
            "\u001b[1m1/1\u001b[0m \u001b[32m━━━━━━━━━━━━━━━━━━━━\u001b[0m\u001b[37m\u001b[0m \u001b[1m0s\u001b[0m 44ms/step\n"
          ]
        },
        {
          "output_type": "display_data",
          "data": {
            "text/plain": [
              "<Figure size 640x480 with 1 Axes>"
            ],
            "image/png": "[encoded data removed]"
          },
          "metadata": {}
        },
        {
          "output_type": "stream",
          "name": "stdout",
          "text": [
            "\u001b[1m1/1\u001b[0m \u001b[32m━━━━━━━━━━━━━━━━━━━━\u001b[0m\u001b[37m\u001b[0m \u001b[1m0s\u001b[0m 107ms/step\n"
          ]
        },
        {
          "output_type": "display_data",
          "data": {
            "text/plain": [
              "<Figure size 640x480 with 1 Axes>"
            ],
            "image/png": "[encoded data removed]"
          },
          "metadata": {}
        }
      ]
    },
    {
      "cell_type": "code",
      "source": [
        "digit_model.save(\"digit_cnn_model.h5\")\n",
        "letter_model.save(\"letter_cnn_model.h5\")\n"
      ],
      "metadata": {
        "colab": {
          "base_uri": "https://localhost:8080/"
        },
        "id": "r5D4kqOoNAz9",
        "outputId": "9abb2181-bfb5-4e92-a07a-4d2b5d4d58d4"
      },
      "execution_count": null,
      "outputs": [
        {
          "output_type": "stream",
          "name": "stderr",
          "text": [
            "WARNING:absl:You are saving your model as an HDF5 file via `model.save()` or `keras.saving.save_model(model)`. This file format is considered legacy. We recommend using instead the native Keras format, e.g. `model.save('my_model.keras')` or `keras.saving.save_model(model, 'my_model.keras')`. \n",
            "WARNING:absl:You are saving your model as an HDF5 file via `model.save()` or `keras.saving.save_model(model)`. This file format is considered legacy. We recommend using instead the native Keras format, e.g. `model.save('my_model.keras')` or `keras.saving.save_model(model, 'my_model.keras')`. \n"
          ]
        }
      ]
    }
  ]
}